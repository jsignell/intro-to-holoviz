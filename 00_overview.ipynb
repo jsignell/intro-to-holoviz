{
 "cells": [
  {
   "cell_type": "markdown",
   "metadata": {
    "slideshow": {
     "slide_type": "slide"
    }
   },
   "source": [
    "### What we want out of visualizations:"
   ]
  },
  {
   "cell_type": "markdown",
   "metadata": {
    "slideshow": {
     "slide_type": "subslide"
    }
   },
   "source": [
    "Explore:\n",
    "  - see patterns in data\n",
    "  - identify bad data\n",
    "  - develop intuition"
   ]
  },
  {
   "cell_type": "markdown",
   "metadata": {
    "slideshow": {
     "slide_type": "subslide"
    }
   },
   "source": [
    "Present:\n",
    "  - show your data to other people\n",
    "  - tell a story"
   ]
  },
  {
   "cell_type": "markdown",
   "metadata": {
    "slideshow": {
     "slide_type": "slide"
    }
   },
   "source": [
    "### What we want out of visualization tools:"
   ]
  },
  {
   "cell_type": "markdown",
   "metadata": {
    "slideshow": {
     "slide_type": "subslide"
    }
   },
   "source": [
    "Interactivity:\n",
    " - zoom in to areas of interest\n",
    " - re-render on user input\n",
    " - draw on plots"
   ]
  },
  {
   "cell_type": "markdown",
   "metadata": {
    "slideshow": {
     "slide_type": "subslide"
    }
   },
   "source": [
    "Reproducibility:\n",
    "  - look at the same data again in a year\n",
    "  - look at a new/different data with the same plots"
   ]
  },
  {
   "cell_type": "markdown",
   "metadata": {
    "slideshow": {
     "slide_type": "subslide"
    }
   },
   "source": [
    "Sharability:\n",
    " - deploy a dashboard\n",
    " - share a notebook with environment specification"
   ]
  },
  {
   "cell_type": "markdown",
   "metadata": {
    "slideshow": {
     "slide_type": "slide"
    },
    "tags": []
   },
   "source": [
    "## Introduction to the tools\n",
    "\n",
    "![](https://hvplot.holoviz.org/assets/diagram.png)"
   ]
  },
  {
   "cell_type": "markdown",
   "metadata": {
    "slideshow": {
     "slide_type": "slide"
    }
   },
   "source": [
    "## Introduction to the dataset:\n",
    "\n",
    "In these notebooks we'll be looking at bird data that was collected by citizen scientists and cleaned and compiled by scientists. This data tracks the migratory patterns of various bird species over the course of a typical year. The data are coordinates of the centroid of different bird species with for each day of the year.\n",
    "\n",
    "\n",
    "### References\n",
    "---\n",
    "\n",
    "La Sorte FA, Fink D, Hochachka WM, Kelling S. 2016 \"Convergence of broad-scale migration strategies in terrestrial birds\". Proc. R. Soc. B 283: 20152588. http://dx.doi.org/10.1098/rspb.2015.2588\n",
    "\n",
    "La Sorte FA, and Fink D. 2017 “Projected changes in prevailing winds for transatlantic migratory birds under global warming”. Journal of American Ecology 2017.86: 273-284. doi: 10.1111/1365-2656.12624"
   ]
  },
  {
   "cell_type": "markdown",
   "metadata": {
    "slideshow": {
     "slide_type": "slide"
    }
   },
   "source": [
    "## Import the data\n",
    "\n",
    "The data are organized in csv files where each file contains the data for one species and the file is named according to the species. \n",
    "\n",
    "```\n",
    "data\n",
    "└── bird_migration\n",
    "    ├── Acadian_Flycatcher.csv\n",
    "    ├── Alder_Flycatcher.csv\n",
    "    ├── American_Golden-Plover.csv\n",
    "    ├── American_Redstart.csv\n",
    "    ├── Baird_s_Sandpiper.csv\n",
    "    ├── Baird_s_Sparrow.csv\n",
    "    ├── Baltimore_Oriole.csv\n",
    "    ├── Bay-breasted_Warbler.csv\n",
    "    ...\n",
    "```"
   ]
  },
  {
   "cell_type": "markdown",
   "metadata": {
    "slideshow": {
     "slide_type": "slide"
    },
    "tags": []
   },
   "source": [
    "To get a sense of the data let's look at just one file using pandas"
   ]
  },
  {
   "cell_type": "code",
   "execution_count": null,
   "metadata": {
    "slideshow": {
     "slide_type": "fragment"
    },
    "tags": []
   },
   "outputs": [],
   "source": [
    "import pandas as pd\n",
    "\n",
    "pd.read_csv(\"./data/bird_migration/Acadian_Flycatcher.csv\")"
   ]
  },
  {
   "cell_type": "markdown",
   "metadata": {
    "slideshow": {
     "slide_type": "slide"
    },
    "tags": []
   },
   "source": [
    "Now we can read in all the files, add species as a column, and concatenate them into one dataframe:"
   ]
  },
  {
   "cell_type": "code",
   "execution_count": null,
   "metadata": {
    "slideshow": {
     "slide_type": "fragment"
    },
    "tags": []
   },
   "outputs": [],
   "source": [
    "import glob\n",
    "\n",
    "df = pd.concat(\n",
    "    pd.read_csv(path).assign(\n",
    "        species=path.removeprefix(\"./data/bird_migration/\").removesuffix(\".csv\")\n",
    "    )\n",
    "    for path in glob.glob(\"./data/bird_migration/*.csv\")\n",
    ")\n",
    "df.head()"
   ]
  },
  {
   "cell_type": "markdown",
   "metadata": {
    "slideshow": {
     "slide_type": "slide"
    },
    "tags": []
   },
   "source": [
    "We can do the exact same thing using [Intake](https://intake.readthedocs.io/) to read in all the files, parse the species name and concatenate."
   ]
  },
  {
   "cell_type": "code",
   "execution_count": null,
   "metadata": {
    "slideshow": {
     "slide_type": "fragment"
    },
    "tags": []
   },
   "outputs": [],
   "source": [
    "import intake\n",
    "\n",
    "birds = intake.open_csv(\"./data/bird_migration/{species}.csv\")\n",
    "\n",
    "df = birds.read()\n",
    "df.head()"
   ]
  },
  {
   "cell_type": "markdown",
   "metadata": {
    "slideshow": {
     "slide_type": "fragment"
    }
   },
   "source": [
    "We can take a closer look at the species column:"
   ]
  },
  {
   "cell_type": "code",
   "execution_count": null,
   "metadata": {
    "slideshow": {
     "slide_type": "fragment"
    }
   },
   "outputs": [],
   "source": [
    "df[\"species\"].describe()"
   ]
  },
  {
   "cell_type": "markdown",
   "metadata": {
    "slideshow": {
     "slide_type": "fragment"
    }
   },
   "source": [
    "[Next section](./01_hvplot.ipynb)"
   ]
  }
 ],
 "metadata": {
  "kernelspec": {
   "display_name": "Python 3 (ipykernel)",
   "language": "python",
   "name": "python3"
  },
  "language_info": {
   "codemirror_mode": {
    "name": "ipython",
    "version": 3
   },
   "file_extension": ".py",
   "mimetype": "text/x-python",
   "name": "python",
   "nbconvert_exporter": "python",
   "pygments_lexer": "ipython3",
   "version": "3.9.12"
  },
  "toc-autonumbering": false,
  "toc-showmarkdowntxt": false,
  "toc-showtags": false
 },
 "nbformat": 4,
 "nbformat_minor": 4
}
