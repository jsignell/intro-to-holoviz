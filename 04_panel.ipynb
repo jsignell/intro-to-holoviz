{
 "cells": [
  {
   "cell_type": "code",
   "execution_count": null,
   "id": "692d2b9e-f0a0-4714-a3d2-49d2a47befa3",
   "metadata": {},
   "outputs": [],
   "source": [
    "import intake\n",
    "import xarray as xr\n",
    "\n",
    "df = intake.open_csv('./data/bird_migration/{species}.csv').read()\n",
    "air = xr.open_dataset(\"./data/air.nc\").air"
   ]
  },
  {
   "cell_type": "code",
   "execution_count": null,
   "id": "7eedd079-71ff-49f9-8c42-0b8fb300e704",
   "metadata": {},
   "outputs": [],
   "source": [
    "air = air.sel(lon=slice(205, 310), lat=slice(75, -55))"
   ]
  },
  {
   "cell_type": "markdown",
   "id": "da0dea19-43c7-4929-a473-7c5b97f00a4f",
   "metadata": {},
   "source": [
    "## Panel \n",
    "\n",
    "Panel provides the framework and interactivity to make dashboards that work in the notebook and can be deployed as standalone apps."
   ]
  },
  {
   "cell_type": "code",
   "execution_count": null,
   "id": "bb28cc8b-1b15-4404-ae05-46207f6fac49",
   "metadata": {},
   "outputs": [],
   "source": [
    "import panel as pn\n",
    "\n",
    "import hvplot.xarray\n",
    "import hvplot.pandas"
   ]
  },
  {
   "cell_type": "code",
   "execution_count": null,
   "id": "e5b96926-fc3a-4435-b6c1-6ded4f61595b",
   "metadata": {},
   "outputs": [],
   "source": [
    "day_slider = pn.widgets.Player(start=1, end=365, step=7, loop_policy='loop')\n",
    "species_selector = pn.widgets.Select(options=list(df.species.cat.categories))"
   ]
  },
  {
   "cell_type": "code",
   "execution_count": null,
   "id": "aa7b7714-367c-46e0-939a-faee5dbeb8c8",
   "metadata": {},
   "outputs": [],
   "source": [
    "bird_map = (\n",
    "    air.hvplot(\"lon\", \"lat\", groupby=\"day\", geo=True, cmap=\"coolwarm\", clim=(-40, 40), coastline=True, height=600) * \\\n",
    "    df.hvplot.points(\"lon\", \"lat\", groupby=\"day\", geo=True, color=\"white\", title=\"Bird Location and Temperature\") * \\\n",
    "    df.hvplot.points(\"lon\", \"lat\", groupby=[\"day\", \"species\"], geo=True, color=\"black\", size=200, title=\"Bird Location and Temperature\")\n",
    ")"
   ]
  },
  {
   "cell_type": "code",
   "execution_count": null,
   "id": "e90a43f2-b445-4b8e-b2ee-3c0a23c485da",
   "metadata": {},
   "outputs": [],
   "source": [
    "bird_lon_lat = df.hvplot.points('lon', 'lat', color='day', cmap='colorwheel', groupby='species', title=\"\")\n",
    "bird_day_lat = df.hvplot('day', 'lat', groupby='species').hist().opts(title=\"\")"
   ]
  },
  {
   "cell_type": "code",
   "execution_count": null,
   "id": "667e6236-ac1a-4ba3-b880-5bd0f024d77f",
   "metadata": {},
   "outputs": [],
   "source": [
    "title = pn.pane.Markdown(\"### Overview of year\", width=600)\n",
    "\n",
    "def callback(target, event):\n",
    "    target.object = f'### Overview of year for: {event.new.replace(\"_\", \" \")}'\n",
    "\n",
    "species_selector.link(title, callbacks={'value': callback})"
   ]
  },
  {
   "cell_type": "code",
   "execution_count": null,
   "id": "7221dd84-c325-44e3-9fcf-dc45eac5801e",
   "metadata": {},
   "outputs": [],
   "source": [
    "#Layout using Template\n",
    "template = pn.template.FastListTemplate(\n",
    "    title='Bird Migration', \n",
    "    sidebar=[\n",
    "        pn.pane.Markdown(\"# Bird Migration\"), \n",
    "        pn.pane.Markdown(\"Explore bird data collected by citizen scientists and cleaned and compiled by scientists. This data tracks the migratory patterns of various bird species over the course of a typical year. The data are coordinates of the centroid of different bird species with for each day of the year.\"),\n",
    "        pn.pane.Markdown(\"## Settings\"),   \n",
    "        species_selector,\n",
    "        pn.pane.Markdown(\"## References\"), \n",
    "        pn.pane.Markdown('La Sorte FA, Fink D, Hochachka WM, Kelling S. 2016 \"Convergence of broad-scale migration strategies in terrestrial birds\". Proc. R. Soc. B 283: 20152588. http://dx.doi.org/10.1098/rspb.2015.2588'),\n",
    "        pn.pane.Markdown('La Sorte FA, and Fink D. 2017 “Projected changes in prevailing winds for transatlantic migratory birds under global warming”. Journal of American Ecology 2017.86: 273-284. doi: 10.1111/1365-2656.12624'),\n",
    "    ],\n",
    "    main=[\n",
    "        pn.Row(\n",
    "            pn.Column(\n",
    "                pn.Pane(bird_map, widgets={'species': species_selector, \"day\": day_slider}),\n",
    "                pn.Pane(day_slider),\n",
    "            ),\n",
    "            pn.Column(\n",
    "                title,\n",
    "                pn.Pane(bird_lon_lat, widgets={'species': species_selector}, sizing_mode='stretch_width'),\n",
    "                pn.Pane(bird_day_lat, widgets={'species': species_selector}, sizing_mode='stretch_width'),\n",
    "            ),\n",
    "        )\n",
    "    ],\n",
    "    accent_base_color=\"#0479cc\",\n",
    "    header_background=\"#0479cc\",\n",
    ")\n",
    "template.show()"
   ]
  },
  {
   "cell_type": "code",
   "execution_count": null,
   "id": "09097338-fc8f-4c78-919a-789932f7b37e",
   "metadata": {},
   "outputs": [],
   "source": []
  }
 ],
 "metadata": {
  "kernelspec": {
   "display_name": "Python 3 (ipykernel)",
   "language": "python",
   "name": "python3"
  },
  "language_info": {
   "codemirror_mode": {
    "name": "ipython",
    "version": 3
   },
   "file_extension": ".py",
   "mimetype": "text/x-python",
   "name": "python",
   "nbconvert_exporter": "python",
   "pygments_lexer": "ipython3",
   "version": "3.9.10"
  }
 },
 "nbformat": 4,
 "nbformat_minor": 5
}
