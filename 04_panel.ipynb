{
 "cells": [
  {
   "cell_type": "code",
   "execution_count": null,
   "id": "692d2b9e-f0a0-4714-a3d2-49d2a47befa3",
   "metadata": {},
   "outputs": [],
   "source": [
    "import intake\n",
    "import xarray as xr\n",
    "\n",
    "df = intake.open_csv(\"./data/bird_migration/{species}.csv\").read()\n",
    "air = xr.open_dataset(\"./data/air.nc\").air\n",
    "air = air.sel(lon=slice(205, 310), lat=slice(75, -55))"
   ]
  },
  {
   "cell_type": "markdown",
   "id": "da0dea19-43c7-4929-a473-7c5b97f00a4f",
   "metadata": {},
   "source": [
    "## Panel \n",
    "\n",
    "In addition to widgets, `panel` provides the framework and interactivity to make dashboards that work in the notebook and can be deployed as standalone apps. In this notebook we'll take the the pieces from that we've learned about so far (`hvplot`, `interactive`, `panel`) and put it all together into a dashboard."
   ]
  },
  {
   "cell_type": "code",
   "execution_count": null,
   "id": "bb28cc8b-1b15-4404-ae05-46207f6fac49",
   "metadata": {},
   "outputs": [],
   "source": [
    "import panel as pn\n",
    "\n",
    "pn.extension(\"tabulator\")\n",
    "\n",
    "import hvplot.pandas\n",
    "import hvplot.xarray"
   ]
  },
  {
   "cell_type": "markdown",
   "id": "e168e80a-5f7e-433b-b7d5-7bf332e983c2",
   "metadata": {},
   "source": [
    "### The widgets"
   ]
  },
  {
   "cell_type": "code",
   "execution_count": null,
   "id": "e5b96926-fc3a-4435-b6c1-6ded4f61595b",
   "metadata": {},
   "outputs": [],
   "source": [
    "day_slider = pn.widgets.IntSlider(name=\"day\", start=1, end=365, step=7)\n",
    "species_selector = pn.widgets.Select(\n",
    "    name=\"species\", options=sorted(list(df.species.cat.categories))\n",
    ")"
   ]
  },
  {
   "cell_type": "markdown",
   "id": "72507215-a8f7-4b6f-b64c-a144269421f1",
   "metadata": {},
   "source": [
    "### Map of the birds grouped by species and day"
   ]
  },
  {
   "cell_type": "code",
   "execution_count": null,
   "id": "aa7b7714-367c-46e0-939a-faee5dbeb8c8",
   "metadata": {},
   "outputs": [],
   "source": [
    "bird_map = (\n",
    "    air.hvplot(\n",
    "        \"lon\",\n",
    "        \"lat\",\n",
    "        groupby=\"day\",\n",
    "        geo=True,\n",
    "        cmap=\"coolwarm\",\n",
    "        clim=(-40, 40),\n",
    "        coastline=True,\n",
    "        height=600,\n",
    "    )\n",
    "    * df.hvplot.points(\n",
    "        \"lon\",\n",
    "        \"lat\",\n",
    "        groupby=\"day\",\n",
    "        hover_cols=[\"species\"],\n",
    "        geo=True,\n",
    "        color=\"white\",\n",
    "    )\n",
    "    * df.hvplot.points(\n",
    "        \"lon\",\n",
    "        \"lat\",\n",
    "        groupby=[\"day\", \"species\"],\n",
    "        hover=False,\n",
    "        geo=True,\n",
    "        color=\"black\",\n",
    "        size=200,\n",
    "        title=\"Bird Location and Air Temperature (C)\",\n",
    "    )\n",
    ")"
   ]
  },
  {
   "cell_type": "markdown",
   "id": "774b5999-58b4-4a27-a431-aa6c0f134d05",
   "metadata": {},
   "source": [
    "### Overview of the year for a particular bird"
   ]
  },
  {
   "cell_type": "code",
   "execution_count": null,
   "id": "e90a43f2-b445-4b8e-b2ee-3c0a23c485da",
   "metadata": {},
   "outputs": [],
   "source": [
    "bird_lon_lat = df.hvplot.points(\n",
    "    \"lon\",\n",
    "    \"lat\",\n",
    "    color=\"day\",\n",
    "    cmap=\"colorwheel\",\n",
    "    groupby=\"species\",\n",
    "    title=\"\",\n",
    "    colorbar=False,\n",
    ")\n",
    "bird_day_lat = df.hvplot.hist(\n",
    "    \"lat\",\n",
    "    groupby=\"species\",\n",
    "    title=\"\",\n",
    ")"
   ]
  },
  {
   "cell_type": "markdown",
   "id": "464b86b9-fbe0-4f9f-bc0f-3f1b8013bf34",
   "metadata": {},
   "source": [
    "This is setting up the title of the overview section. I'm not going to go into it in this talk but you can learn all about the different ways in which you can link bits together in the [Panel Linking Docs](https://panel.holoviz.org/user_guide/Links.html)."
   ]
  },
  {
   "cell_type": "code",
   "execution_count": null,
   "id": "667e6236-ac1a-4ba3-b880-5bd0f024d77f",
   "metadata": {},
   "outputs": [],
   "source": [
    "def callback(target, event):\n",
    "    target.object = f\"### Overview of year for: {event.new.replace('_', ' ')}\"\n",
    "\n",
    "\n",
    "title = pn.pane.Markdown(\n",
    "    f\"### Overview of year for: {species_selector.value.replace('_', ' ')}\"\n",
    ")\n",
    "species_selector.link(title, callbacks={\"value\": callback})"
   ]
  },
  {
   "cell_type": "markdown",
   "id": "31d3380f-7d16-49a7-a06b-67f0c73582e6",
   "metadata": {},
   "source": [
    "### Table of nearby birds"
   ]
  },
  {
   "cell_type": "code",
   "execution_count": null,
   "id": "c3388c86-0872-43e2-92dc-10574135e539",
   "metadata": {},
   "outputs": [],
   "source": [
    "df_i = df.interactive()\n",
    "\n",
    "lon, lat = df_i[(df_i.species == species_selector) & (df_i.day == day_slider)][\n",
    "    [\"lon\", \"lat\"]\n",
    "].values[0]\n",
    "\n",
    "pipeline = (\n",
    "    df_i[\n",
    "        (df_i.day == day_slider)\n",
    "        & (df_i.lon > lon - 5)\n",
    "        & (df_i.lon < lon + 5)\n",
    "        & (df_i.lat > lat - 5)\n",
    "        & (df_i.lat < lat + 5)\n",
    "    ]\n",
    "    .set_index([\"lon\", \"lat\"])\n",
    "    .sort_index()[[\"species\"]]\n",
    ")"
   ]
  },
  {
   "cell_type": "markdown",
   "id": "dcb100ff-a326-44d2-b70e-c5d04c9a9b94",
   "metadata": {},
   "source": [
    "### Explanatory text"
   ]
  },
  {
   "cell_type": "code",
   "execution_count": null,
   "id": "cb05ea90-0004-4892-be79-9d7936711fa0",
   "metadata": {},
   "outputs": [],
   "source": [
    "description = \"\"\"\n",
    "Explore bird data collected by citizen scientists and cleaned and compiled by\n",
    "scientists. This data tracks the migratory patterns of various bird species\n",
    "over the course of a typical year. The data are coordinates of the centroid of\n",
    "different bird species with for each day of the year.\n",
    "\"\"\"\n",
    "reference_1 = \"\"\"\n",
    "La Sorte FA, Fink D, Hochachka WM, Kelling S. 2016 \"Convergence of broad-scale\n",
    "migration strategies in terrestrial birds\". Proc. R. Soc. B 283: 20152588.\n",
    "http://dx.doi.org/10.1098/rspb.2015.2588\n",
    "\"\"\"\n",
    "reference_2 = \"\"\"\n",
    "La Sorte FA, and Fink D. 2017 \"Projected changes in prevailing winds for\n",
    "transatlantic migratory birds under global warming\".\n",
    "Journal of American Ecology 2017.86: 273-284.\n",
    "doi: 10.1111/1365-2656.12624\n",
    "\"\"\""
   ]
  },
  {
   "cell_type": "markdown",
   "id": "b9c4e4b6-cfaa-414c-a61d-3511ffb2f054",
   "metadata": {},
   "source": [
    "### Set up the dashboard using a template"
   ]
  },
  {
   "cell_type": "code",
   "execution_count": null,
   "id": "7221dd84-c325-44e3-9fcf-dc45eac5801e",
   "metadata": {},
   "outputs": [],
   "source": [
    "# Layout using Template\n",
    "template = pn.template.FastListTemplate(\n",
    "    title=\"Bird Migration\",\n",
    "    sidebar=[\n",
    "        pn.pane.Markdown(\"# Bird Migration\"),\n",
    "        pn.pane.Markdown(description),\n",
    "        pn.pane.Markdown(\"## Settings\"),\n",
    "        species_selector,\n",
    "        day_slider,\n",
    "        pn.pane.Markdown(\"## References\"),\n",
    "        pn.pane.Markdown(reference_1),\n",
    "        pn.pane.Markdown(reference_2),\n",
    "    ],\n",
    "    main=[\n",
    "        pn.Row(\n",
    "            pn.Column(\n",
    "                pn.Pane(\n",
    "                    bird_map, widgets={\"species\": species_selector, \"day\": day_slider}\n",
    "                ),\n",
    "            ),\n",
    "            pn.Column(\n",
    "                title,\n",
    "                pn.Tabs(\n",
    "                    pn.Pane(\n",
    "                        bird_lon_lat,\n",
    "                        widgets={\"species\": species_selector},\n",
    "                        name=\"Location on every day\",\n",
    "                    ),\n",
    "                    pn.Pane(\n",
    "                        bird_day_lat,\n",
    "                        widgets={\"species\": species_selector},\n",
    "                        name=\"Days spent at various lats\",\n",
    "                    ),\n",
    "                    margin=(0, 10),\n",
    "                ),\n",
    "                pn.Row(\n",
    "                    pn.Column(\n",
    "                        pn.pane.Markdown(\"### Nearby Birds\"),\n",
    "                        pn.pane.Markdown(\n",
    "                            \"Birds that were within 5 degrees lat and 5 degrees \"\n",
    "                            \"lon of the selected bird on the selected day of the year\"\n",
    "                        ),\n",
    "                        width=200,\n",
    "                    ),\n",
    "                    pipeline.pipe(\n",
    "                        pn.widgets.Tabulator,\n",
    "                        pagination=\"remote\",\n",
    "                        page_size=10,\n",
    "                        width=400,\n",
    "                    ).panel(),\n",
    "                ),\n",
    "                width=600,\n",
    "                margin=(0, 30),\n",
    "            ),\n",
    "        )\n",
    "    ],\n",
    "    accent_base_color=\"#0479cc\",\n",
    "    header_background=\"#0479cc\",\n",
    ")\n",
    "template.show()"
   ]
  },
  {
   "cell_type": "code",
   "execution_count": null,
   "id": "18633f07-a339-4b75-b859-019fd150b775",
   "metadata": {},
   "outputs": [],
   "source": []
  }
 ],
 "metadata": {
  "kernelspec": {
   "display_name": "Python 3 (ipykernel)",
   "language": "python",
   "name": "python3"
  },
  "language_info": {
   "codemirror_mode": {
    "name": "ipython",
    "version": 3
   },
   "file_extension": ".py",
   "mimetype": "text/x-python",
   "name": "python",
   "nbconvert_exporter": "python",
   "pygments_lexer": "ipython3",
   "version": "3.9.12"
  }
 },
 "nbformat": 4,
 "nbformat_minor": 5
}
