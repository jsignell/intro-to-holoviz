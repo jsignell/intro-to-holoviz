{
 "cells": [
  {
   "cell_type": "code",
   "execution_count": null,
   "id": "0",
   "metadata": {},
   "outputs": [],
   "source": [
    "import intake\n",
    "import xarray as xr\n",
    "\n",
    "df = intake.open_csv(\"./data/bird_migration/{species}.csv\").read()\n",
    "air = xr.open_dataset(\"./data/air.nc\").air"
   ]
  },
  {
   "cell_type": "markdown",
   "id": "1",
   "metadata": {},
   "source": [
    "## Interactive Pipelines\n",
    "\n",
    "In the previous notebooks we used `.hvplot` to create interactive visuals be passing in columns as axes or color and sometimes using groupby. Sometimes though you want to interactively slice up your data along other dimensions. For that we will use `.interactive`"
   ]
  },
  {
   "cell_type": "code",
   "execution_count": null,
   "id": "2",
   "metadata": {},
   "outputs": [],
   "source": [
    "import panel as pn\n",
    "\n",
    "pn.extension(sizing_mode=\"stretch_width\")\n",
    "\n",
    "import hvplot.pandas\n",
    "import hvplot.xarray"
   ]
  },
  {
   "cell_type": "markdown",
   "id": "3",
   "metadata": {},
   "source": [
    "To get started we will create some `panel` widgets. You can see a list of all the widget options in the [Widget Reference Gallery](https://panel.holoviz.org/reference/index.html#widgets)."
   ]
  },
  {
   "cell_type": "code",
   "execution_count": null,
   "id": "4",
   "metadata": {},
   "outputs": [],
   "source": [
    "day_slider = pn.widgets.IntSlider(name=\"Day of the Year\", start=1, end=365)\n",
    "day_slider"
   ]
  },
  {
   "cell_type": "code",
   "execution_count": null,
   "id": "5",
   "metadata": {},
   "outputs": [],
   "source": [
    "day_slider.value"
   ]
  },
  {
   "cell_type": "markdown",
   "id": "6",
   "metadata": {},
   "source": [
    "Now with our widget in hand, we can create an interactive view of our data."
   ]
  },
  {
   "cell_type": "code",
   "execution_count": null,
   "id": "7",
   "metadata": {},
   "outputs": [],
   "source": [
    "air_i = air.interactive()\n",
    "\n",
    "air_i.sel(day=day_slider)"
   ]
  },
  {
   "cell_type": "markdown",
   "id": "8",
   "metadata": {},
   "source": [
    "We can use that interactive data as the basis for other visuals"
   ]
  },
  {
   "cell_type": "code",
   "execution_count": null,
   "id": "9",
   "metadata": {},
   "outputs": [],
   "source": [
    "air_i.sel(day=day_slider).hvplot(geo=True, coastline=True)"
   ]
  },
  {
   "cell_type": "markdown",
   "id": "10",
   "metadata": {},
   "source": [
    "We can put these two views together by putting them in a `panel.Row`."
   ]
  },
  {
   "cell_type": "code",
   "execution_count": null,
   "id": "11",
   "metadata": {},
   "outputs": [],
   "source": [
    "day_slider = pn.widgets.IntSlider(name=\"Day of the Year\", start=1, end=365)\n",
    "\n",
    "pn.Row(\n",
    "    air_i.sel(day=day_slider),\n",
    "    air_i.sel(day=day_slider).hvplot(geo=True).panel(margin=(30, 30)),\n",
    ")"
   ]
  },
  {
   "cell_type": "markdown",
   "id": "12",
   "metadata": {},
   "source": [
    "Now let's see how we can slice up the bird data. First we can make a species selector widget."
   ]
  },
  {
   "cell_type": "code",
   "execution_count": null,
   "id": "13",
   "metadata": {},
   "outputs": [],
   "source": [
    "species_selector = pn.widgets.Select(\n",
    "    name=\"Bird Species\", options=sorted(list(df.species.cat.categories))\n",
    ")\n",
    "species_selector"
   ]
  },
  {
   "cell_type": "markdown",
   "id": "14",
   "metadata": {},
   "source": [
    "Now let's see who is around that bird at any given day of the year. We'll start by getting the lat and lon for the bird that we've selected."
   ]
  },
  {
   "cell_type": "code",
   "execution_count": null,
   "id": "15",
   "metadata": {},
   "outputs": [],
   "source": [
    "df_i = df.interactive()\n",
    "\n",
    "lon, lat = df_i[(df_i.species == species_selector) & (df_i.day == day_slider)][\n",
    "    [\"lon\", \"lat\"]\n",
    "].values[0]\n",
    "lon"
   ]
  },
  {
   "cell_type": "markdown",
   "id": "16",
   "metadata": {},
   "source": [
    "Now we can use those lon and lat values to find the birds that are closest to the selected bird on that day. Note that I'm using a 10 degree by 10 degree bounding box rather than calculating the real distance. But _you could_."
   ]
  },
  {
   "cell_type": "code",
   "execution_count": null,
   "id": "17",
   "metadata": {},
   "outputs": [],
   "source": [
    "df_i[\n",
    "    (df_i.day == day_slider)\n",
    "    & (df_i.lon > lon - 5)\n",
    "    & (df_i.lon < lon + 5)\n",
    "    & (df_i.lat > lat - 5)\n",
    "    & (df_i.lat < lat + 5)\n",
    "].set_index([\"lon\", \"lat\"]).sort_index()[\"species\"]"
   ]
  },
  {
   "cell_type": "markdown",
   "id": "18",
   "metadata": {},
   "source": [
    "For a longer discussion of `.interactive` check out the [HoloViz Tutorial](https://holoviz.org/tutorial/Interactive_Pipelines.html) or the [HoloViz Docs](https://hvplot.holoviz.org/user_guide/Interactive.html)\n",
    "\n",
    "[Next Section](./04_panel.ipynb)"
   ]
  }
 ],
 "metadata": {
  "kernelspec": {
   "display_name": "Python 3 (ipykernel)",
   "language": "python",
   "name": "python3"
  },
  "language_info": {
   "codemirror_mode": {
    "name": "ipython",
    "version": 3
   },
   "file_extension": ".py",
   "mimetype": "text/x-python",
   "name": "python",
   "nbconvert_exporter": "python",
   "pygments_lexer": "ipython3",
   "version": "3.9.12"
  }
 },
 "nbformat": 4,
 "nbformat_minor": 5
}
