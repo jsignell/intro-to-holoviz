{
 "cells": [
  {
   "cell_type": "code",
   "execution_count": null,
   "id": "8545b477-b642-4b46-b3b1-d09b57874c30",
   "metadata": {},
   "outputs": [],
   "source": [
    "import intake\n",
    "import xarray as xr\n",
    "\n",
    "df = intake.open_csv(\"./data/bird_migration/{species}.csv\").read()\n",
    "air = xr.open_dataset(\"./data/air.nc\").air"
   ]
  },
  {
   "cell_type": "markdown",
   "id": "43e4c016-27d2-4eff-b997-a2d7248b3ff2",
   "metadata": {},
   "source": [
    "## Interactive Pipelines\n",
    "\n",
    "In the previous notebooks we used `.hvplot` to create interactive visuals be passing in columns as axes or color and sometimes using groupby. Sometimes though you want to interactively slice up your data along other dimensions. For that we will use `.interactive`"
   ]
  },
  {
   "cell_type": "code",
   "execution_count": null,
   "id": "dde7fb22-29e7-4f0a-bf1a-14dfb32352fb",
   "metadata": {},
   "outputs": [],
   "source": [
    "import panel as pn\n",
    "\n",
    "pn.extension(sizing_mode=\"stretch_width\")\n",
    "\n",
    "import hvplot.pandas\n",
    "import hvplot.xarray"
   ]
  },
  {
   "cell_type": "markdown",
   "id": "615e507c-5c2c-4c34-8e8b-97b9d5e09aff",
   "metadata": {},
   "source": [
    "To get started we will create some `panel` widgets. You can see a list of all the widget options in the [Widget Reference Gallery](https://panel.holoviz.org/reference/index.html#widgets)."
   ]
  },
  {
   "cell_type": "code",
   "execution_count": null,
   "id": "da4e601d-23a3-4e90-a066-fb3408c86d97",
   "metadata": {},
   "outputs": [],
   "source": [
    "day_slider = pn.widgets.IntSlider(name=\"Day of the Year\", start=1, end=365)\n",
    "day_slider"
   ]
  },
  {
   "cell_type": "code",
   "execution_count": null,
   "id": "ce4faf39-2fe9-47ab-98bd-a0b1293b81fc",
   "metadata": {},
   "outputs": [],
   "source": [
    "day_slider.value"
   ]
  },
  {
   "cell_type": "markdown",
   "id": "74ca9346-0d23-49e0-b8b3-61eb6ed96e26",
   "metadata": {},
   "source": [
    "Now with our widget in hand, we can create an interactive view of our data."
   ]
  },
  {
   "cell_type": "code",
   "execution_count": null,
   "id": "448d618b-c28a-495a-93d1-35bf0b0273d9",
   "metadata": {},
   "outputs": [],
   "source": [
    "air_i = air.interactive()\n",
    "\n",
    "air_i.sel(day=day_slider)"
   ]
  },
  {
   "cell_type": "markdown",
   "id": "e7616dc8-3f13-4798-af81-7b08c6aa71c3",
   "metadata": {},
   "source": [
    "We can use that interactive data as the basis for other visuals"
   ]
  },
  {
   "cell_type": "code",
   "execution_count": null,
   "id": "ebb4e2c3-87b4-4de0-97e5-77808b3b9b04",
   "metadata": {},
   "outputs": [],
   "source": [
    "air_i.sel(day=day_slider).hvplot(geo=True, coastline=True)"
   ]
  },
  {
   "cell_type": "markdown",
   "id": "7f850347-e44f-4ef1-81dd-98ca6bbab398",
   "metadata": {},
   "source": [
    "We can put these two views together by putting them in a `panel.Row`."
   ]
  },
  {
   "cell_type": "code",
   "execution_count": null,
   "id": "d1ea8460-a45c-4ed2-9faf-78c86ea20c5a",
   "metadata": {},
   "outputs": [],
   "source": [
    "day_slider = pn.widgets.IntSlider(name=\"Day of the Year\", start=1, end=365)\n",
    "\n",
    "pn.Row(\n",
    "    air_i.sel(day=day_slider),\n",
    "    air_i.sel(day=day_slider).hvplot(geo=True).panel(margin=(30, 30)),\n",
    ")"
   ]
  },
  {
   "cell_type": "markdown",
   "id": "f56cd2cc-aa0d-40b2-9044-59122f81f3a5",
   "metadata": {},
   "source": [
    "Now let's see how we can slice up the bird data. First we can make a species selector widget."
   ]
  },
  {
   "cell_type": "code",
   "execution_count": null,
   "id": "b315897c-7e00-4120-b872-f0def05b1cc4",
   "metadata": {},
   "outputs": [],
   "source": [
    "species_selector = pn.widgets.Select(\n",
    "    name=\"Bird Species\", options=sorted(list(df.species.cat.categories))\n",
    ")\n",
    "species_selector"
   ]
  },
  {
   "cell_type": "markdown",
   "id": "5168f50d-3609-4fd5-8cce-c67776e3c48c",
   "metadata": {},
   "source": [
    "Now let's see who is around that bird at any given day of the year. We'll start by getting the lat and lon for the bird that we've selected."
   ]
  },
  {
   "cell_type": "code",
   "execution_count": null,
   "id": "81ce691e-b568-48a8-9d00-241179517d94",
   "metadata": {},
   "outputs": [],
   "source": [
    "df_i = df.interactive()\n",
    "\n",
    "lon, lat = df_i[(df_i.species == species_selector) & (df_i.day == day_slider)][\n",
    "    [\"lon\", \"lat\"]\n",
    "].values[0]\n",
    "lon"
   ]
  },
  {
   "cell_type": "markdown",
   "id": "dad5a8eb-2361-4c0b-a3db-ca9c2d3c223e",
   "metadata": {},
   "source": [
    "Now we can use those lon and lat values to find the birds that are closest to the selected bird on that day. Note that I'm using a 10 degree by 10 degree bounding box rather than calculating the real distance. But _you could_."
   ]
  },
  {
   "cell_type": "code",
   "execution_count": null,
   "id": "d83901e7-fa16-4a1d-adc4-eacd91b5842d",
   "metadata": {},
   "outputs": [],
   "source": [
    "df_i[\n",
    "    (df_i.day == day_slider)\n",
    "    & (df_i.lon > lon - 5)\n",
    "    & (df_i.lon < lon + 5)\n",
    "    & (df_i.lat > lat - 5)\n",
    "    & (df_i.lat < lat + 5)\n",
    "].set_index([\"lon\", \"lat\"]).sort_index()[\"species\"]"
   ]
  },
  {
   "cell_type": "markdown",
   "id": "068d2542-12e9-4689-a991-c9b1474df48f",
   "metadata": {},
   "source": [
    "For a longer discussion of `.interactive` check out the [HoloViz Tutorial](https://holoviz.org/tutorial/Interactive_Pipelines.html) or the [HoloViz Docs](https://hvplot.holoviz.org/user_guide/Interactive.html)\n",
    "\n",
    "[Next Section](./04_panel.ipynb)"
   ]
  }
 ],
 "metadata": {
  "kernelspec": {
   "display_name": "Python 3 (ipykernel)",
   "language": "python",
   "name": "python3"
  },
  "language_info": {
   "codemirror_mode": {
    "name": "ipython",
    "version": 3
   },
   "file_extension": ".py",
   "mimetype": "text/x-python",
   "name": "python",
   "nbconvert_exporter": "python",
   "pygments_lexer": "ipython3",
   "version": "3.9.12"
  }
 },
 "nbformat": 4,
 "nbformat_minor": 5
}
