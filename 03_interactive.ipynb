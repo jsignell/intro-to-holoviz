{
 "cells": [
  {
   "cell_type": "code",
   "execution_count": null,
   "id": "735a2837-68e1-48ee-9dbf-f9a4e3618885",
   "metadata": {},
   "outputs": [],
   "source": [
    "import intake\n",
    "import xarray as xr\n",
    "\n",
    "df = intake.open_csv(\"./data/bird_migration/{species}.csv\").read()\n",
    "air = xr.open_dataset(\"./data/air.nc\").air"
   ]
  },
  {
   "cell_type": "markdown",
   "id": "43e4c016-27d2-4eff-b997-a2d7248b3ff2",
   "metadata": {},
   "source": [
    "## Panel \n",
    "\n",
    "Panel provides the framework and interactivity to make dashboards that work in the notebook and can be deployed as standalone apps."
   ]
  },
  {
   "cell_type": "code",
   "execution_count": null,
   "id": "dde7fb22-29e7-4f0a-bf1a-14dfb32352fb",
   "metadata": {},
   "outputs": [],
   "source": [
    "import hvplot.pandas\n",
    "import hvplot.xarray\n",
    "import panel as pn"
   ]
  },
  {
   "cell_type": "code",
   "execution_count": null,
   "id": "448d618b-c28a-495a-93d1-35bf0b0273d9",
   "metadata": {},
   "outputs": [],
   "source": [
    "iair = air.interactive()"
   ]
  },
  {
   "cell_type": "code",
   "execution_count": null,
   "id": "8f15e1f6-3a53-4a8b-8873-82a3919531c0",
   "metadata": {},
   "outputs": [],
   "source": [
    "idf = df.interactive()"
   ]
  },
  {
   "cell_type": "code",
   "execution_count": null,
   "id": "f7dea2e9-9c74-49da-ad6a-a42a495651b1",
   "metadata": {},
   "outputs": [],
   "source": [
    "day_slider = pn.widgets.IntSlider(start=1, end=365)\n",
    "species_selector = pn.widgets.Select(options=list(df.species.cat.categories))"
   ]
  },
  {
   "cell_type": "code",
   "execution_count": null,
   "id": "5176dfe0-d19a-4727-8a72-2403b97bbd42",
   "metadata": {},
   "outputs": [],
   "source": [
    "iair.sel(day=day_slider).hvplot(\"lon\", \"lat\")"
   ]
  },
  {
   "cell_type": "code",
   "execution_count": null,
   "id": "adb7de88-51b0-4980-8cae-1203a9aaf8f8",
   "metadata": {},
   "outputs": [],
   "source": [
    "df.hvplot.hist(\"lon\") + df.hvplot.hist(\"lat\")"
   ]
  },
  {
   "cell_type": "code",
   "execution_count": null,
   "id": "22c20590-8c03-4d72-aa84-9321ebd50a7a",
   "metadata": {},
   "outputs": [],
   "source": [
    "lon_slider = pn.widgets.IntSlider(\n",
    "    name=\"Longitude\",\n",
    "    start=round(df.lon.min()),\n",
    "    end=round(df.lon.max()),\n",
    "    value=round(df.lon.median()),\n",
    ")\n",
    "lat_slider = pn.widgets.IntSlider(\n",
    "    name=\"Latitude\",\n",
    "    start=round(df.lat.min()),\n",
    "    end=round(df.lat.max()),\n",
    "    value=round(df.lat.median()),\n",
    ")"
   ]
  },
  {
   "cell_type": "code",
   "execution_count": null,
   "id": "1e3a77dd-b20c-4fb8-a62d-513a841aaff9",
   "metadata": {},
   "outputs": [],
   "source": [
    "pipeline = idf[(idf.lon.round() == lon_slider) & (idf.lat.round() == lat_slider)][\n",
    "    [\"species\", \"day\"]\n",
    "].sort_values(\"day\")"
   ]
  },
  {
   "cell_type": "code",
   "execution_count": null,
   "id": "c0b44a16-c726-42d7-9369-5d6947fe03ce",
   "metadata": {},
   "outputs": [],
   "source": [
    "pipeline"
   ]
  },
  {
   "cell_type": "code",
   "execution_count": null,
   "id": "881f7af7-69e5-4f86-aa3c-538f453babcc",
   "metadata": {},
   "outputs": [],
   "source": [
    "idf[idf.day == day_slider].hvplot(\"lon\", \"lat\", color=\"species\", kind=\"points\"),\n",
    "idf[idf.day == day_slider].head()"
   ]
  },
  {
   "cell_type": "code",
   "execution_count": null,
   "id": "914d20d4-8832-4bcb-95a6-4c951e842605",
   "metadata": {},
   "outputs": [],
   "source": [
    "def temp_calc(day, species):\n",
    "    row = df[(df.species == species) & (df.day == day)]\n",
    "    return round(air.sel(lon=row.lon, , method='nearest').item())"
   ]
  },
  {
   "cell_type": "code",
   "execution_count": null,
   "id": "cfae27d3-e3be-416e-bdd2-2021a93789de",
   "metadata": {},
   "outputs": [],
   "source": [
    "idf[(idf.species == species_selector) & (idf.day == day_slider)].lon.item()"
   ]
  }
 ],
 "metadata": {
  "kernelspec": {
   "display_name": "Python 3 (ipykernel)",
   "language": "python",
   "name": "python3"
  },
  "language_info": {
   "codemirror_mode": {
    "name": "ipython",
    "version": 3
   },
   "file_extension": ".py",
   "mimetype": "text/x-python",
   "name": "python",
   "nbconvert_exporter": "python",
   "pygments_lexer": "ipython3",
   "version": "3.9.10"
  }
 },
 "nbformat": 4,
 "nbformat_minor": 5
}
